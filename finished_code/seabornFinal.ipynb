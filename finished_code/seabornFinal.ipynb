{
  "nbformat": 4,
  "nbformat_minor": 0,
  "metadata": {
    "colab": {
      "name": "seabornFinal.ipynb",
      "provenance": []
    },
    "kernelspec": {
      "name": "python3",
      "display_name": "Python 3"
    }
  },
  "cells": [
    {
      "cell_type": "code",
      "metadata": {
        "id": "28bm0i6JsI3A"
      },
      "source": [
        "import pandas as pd\r\n",
        "import seaborn as sns"
      ],
      "execution_count": 1,
      "outputs": []
    },
    {
      "cell_type": "code",
      "metadata": {
        "id": "Hwoj8Vl6sjIC"
      },
      "source": [
        "df = pd.read_csv(\"/content/mechanical+keyboard.csv\")"
      ],
      "execution_count": 2,
      "outputs": []
    },
    {
      "cell_type": "markdown",
      "metadata": {
        "id": "BNnGPCaowUag"
      },
      "source": [
        "Here we create a data frame and use the mechanical+keyboard.csv file as reference."
      ]
    },
    {
      "cell_type": "code",
      "metadata": {
        "colab": {
          "base_uri": "https://localhost:8080/",
          "height": 1000
        },
        "id": "YXV4ngYCtL4y",
        "outputId": "e0b7ffe3-8178-45e2-c378-0ef0cd70275f"
      },
      "source": [
        "df"
      ],
      "execution_count": 3,
      "outputs": [
        {
          "output_type": "execute_result",
          "data": {
            "text/html": [
              "<div>\n",
              "<style scoped>\n",
              "    .dataframe tbody tr th:only-of-type {\n",
              "        vertical-align: middle;\n",
              "    }\n",
              "\n",
              "    .dataframe tbody tr th {\n",
              "        vertical-align: top;\n",
              "    }\n",
              "\n",
              "    .dataframe thead th {\n",
              "        text-align: right;\n",
              "    }\n",
              "</style>\n",
              "<table border=\"1\" class=\"dataframe\">\n",
              "  <thead>\n",
              "    <tr style=\"text-align: right;\">\n",
              "      <th></th>\n",
              "      <th>asin</th>\n",
              "      <th>price</th>\n",
              "      <th>avgStars</th>\n",
              "      <th>name</th>\n",
              "    </tr>\n",
              "  </thead>\n",
              "  <tbody>\n",
              "    <tr>\n",
              "      <th>0</th>\n",
              "      <td>B06XKV8R9Z</td>\n",
              "      <td>34.99</td>\n",
              "      <td>4.4</td>\n",
              "      <td>AUKEY Mechanical Keyboard TKL Gaming Keyboard ...</td>\n",
              "    </tr>\n",
              "    <tr>\n",
              "      <th>1</th>\n",
              "      <td>B08J6FC3F3</td>\n",
              "      <td>94.99</td>\n",
              "      <td>4.5</td>\n",
              "      <td>Corsair K60 RGB Pro Low Profile Mechanical Gam...</td>\n",
              "    </tr>\n",
              "    <tr>\n",
              "      <th>2</th>\n",
              "      <td>B08DJ36S9W</td>\n",
              "      <td>35.99</td>\n",
              "      <td>4.0</td>\n",
              "      <td>Gtracing Mechanical Keyboard 104 Key Mechanica...</td>\n",
              "    </tr>\n",
              "    <tr>\n",
              "      <th>3</th>\n",
              "      <td>B0875M3MLS</td>\n",
              "      <td>104.99</td>\n",
              "      <td>4.6</td>\n",
              "      <td>Keychron K8 Bluetooth Wireless Mechanical Keyb...</td>\n",
              "    </tr>\n",
              "    <tr>\n",
              "      <th>4</th>\n",
              "      <td>B0878TJ7VY</td>\n",
              "      <td>35.99</td>\n",
              "      <td>3.9</td>\n",
              "      <td>Lomi-luskr AK33 Wired Mechanical Keyboard, 82-...</td>\n",
              "    </tr>\n",
              "    <tr>\n",
              "      <th>5</th>\n",
              "      <td>B08LRSK29Z</td>\n",
              "      <td>55.99</td>\n",
              "      <td>3.9</td>\n",
              "      <td>Mechanical Gaming Keyboard Blue Switch Mini 82...</td>\n",
              "    </tr>\n",
              "    <tr>\n",
              "      <th>6</th>\n",
              "      <td>B08NJNLYM3</td>\n",
              "      <td>49.99</td>\n",
              "      <td>4.7</td>\n",
              "      <td>CQ84 RGB Mechanical Gaming Keyboard, Programma...</td>\n",
              "    </tr>\n",
              "    <tr>\n",
              "      <th>7</th>\n",
              "      <td>B07QQB9VCV</td>\n",
              "      <td>116.99</td>\n",
              "      <td>4.7</td>\n",
              "      <td>Logitech G PRO Mechanical Gaming Keyboard, Ult...</td>\n",
              "    </tr>\n",
              "    <tr>\n",
              "      <th>8</th>\n",
              "      <td>B08GG96FN5</td>\n",
              "      <td>69.99</td>\n",
              "      <td>4.5</td>\n",
              "      <td>Mizar MZ60 Luna Hot Swappable Mechanical Gamin...</td>\n",
              "    </tr>\n",
              "    <tr>\n",
              "      <th>9</th>\n",
              "      <td>B08F1VV9LZ</td>\n",
              "      <td>39.99</td>\n",
              "      <td>4.1</td>\n",
              "      <td>SHAVA TKL Mechanical Gaming Keyboard, Special ...</td>\n",
              "    </tr>\n",
              "    <tr>\n",
              "      <th>10</th>\n",
              "      <td>B088FFLY9R</td>\n",
              "      <td>31.99</td>\n",
              "      <td>3.9</td>\n",
              "      <td>DELUX Wired Programmable Mechanical Keyboard a...</td>\n",
              "    </tr>\n",
              "    <tr>\n",
              "      <th>11</th>\n",
              "      <td>B08HWW99LT</td>\n",
              "      <td>27.99</td>\n",
              "      <td>4.7</td>\n",
              "      <td>VictSing TKL Mechanical Gaming Keyboard，LED Ra...</td>\n",
              "    </tr>\n",
              "    <tr>\n",
              "      <th>12</th>\n",
              "      <td>B08F37RG3Y</td>\n",
              "      <td>29.99</td>\n",
              "      <td>4.8</td>\n",
              "      <td>Sweet Alice Mechanical Gaming Keyboard, Compac...</td>\n",
              "    </tr>\n",
              "    <tr>\n",
              "      <th>13</th>\n",
              "      <td>B08LPR7FQW</td>\n",
              "      <td>99.00</td>\n",
              "      <td>4.9</td>\n",
              "      <td>Kraken Pro 60 - BRED Edition 60% Mechanical Ke...</td>\n",
              "    </tr>\n",
              "    <tr>\n",
              "      <th>14</th>\n",
              "      <td>B08KTHYW6X</td>\n",
              "      <td>44.99</td>\n",
              "      <td>4.3</td>\n",
              "      <td>AUKEY Mechanical Keyboard TKL Gaming Keyboard ...</td>\n",
              "    </tr>\n",
              "    <tr>\n",
              "      <th>15</th>\n",
              "      <td>B08P1XST42</td>\n",
              "      <td>119.99</td>\n",
              "      <td>5.0</td>\n",
              "      <td>EPOMKER AKKO 3084 Silent 84 Keys Bluetooth 5.0...</td>\n",
              "    </tr>\n",
              "    <tr>\n",
              "      <th>16</th>\n",
              "      <td>B08DZ5DWPX</td>\n",
              "      <td>149.99</td>\n",
              "      <td>4.6</td>\n",
              "      <td>Logitech G PRO X Keyboard - Shroud Edition</td>\n",
              "    </tr>\n",
              "    <tr>\n",
              "      <th>17</th>\n",
              "      <td>B08L4P9HW4</td>\n",
              "      <td>26.99</td>\n",
              "      <td>4.5</td>\n",
              "      <td>Bfriendit Gaming Keyboard USB Wired Floating K...</td>\n",
              "    </tr>\n",
              "    <tr>\n",
              "      <th>18</th>\n",
              "      <td>B07TNRCM1Z</td>\n",
              "      <td>79.99</td>\n",
              "      <td>4.5</td>\n",
              "      <td>CORSAIR K57 RGB Wireless Gaming Keyboard - &lt;1m...</td>\n",
              "    </tr>\n",
              "    <tr>\n",
              "      <th>19</th>\n",
              "      <td>B01FXDHOKC</td>\n",
              "      <td>49.68</td>\n",
              "      <td>4.6</td>\n",
              "      <td>HUO JI E-Yooso Z-88 RGB Mechanical Gaming Keyb...</td>\n",
              "    </tr>\n",
              "    <tr>\n",
              "      <th>20</th>\n",
              "      <td>B08H4RHBL1</td>\n",
              "      <td>49.99</td>\n",
              "      <td>4.6</td>\n",
              "      <td>GIM KB-64 60% Mechanical Gaming Keyboard, 64 K...</td>\n",
              "    </tr>\n",
              "    <tr>\n",
              "      <th>21</th>\n",
              "      <td>B082LXPT5G</td>\n",
              "      <td>66.99</td>\n",
              "      <td>4.7</td>\n",
              "      <td>Gaming Keyboard,Retro Punk Typewriter-Style, B...</td>\n",
              "    </tr>\n",
              "    <tr>\n",
              "      <th>22</th>\n",
              "      <td>B086168SJT</td>\n",
              "      <td>44.99</td>\n",
              "      <td>4.4</td>\n",
              "      <td>FIODIO Mechanical Gaming Keyboard, LED Rainbow...</td>\n",
              "    </tr>\n",
              "    <tr>\n",
              "      <th>23</th>\n",
              "      <td>B07FZVCH4H</td>\n",
              "      <td>59.99</td>\n",
              "      <td>4.3</td>\n",
              "      <td>DIERYA DK63 Wireless 60% Mechanical Gaming Key...</td>\n",
              "    </tr>\n",
              "    <tr>\n",
              "      <th>24</th>\n",
              "      <td>B07D3GB4N3</td>\n",
              "      <td>48.99</td>\n",
              "      <td>4.7</td>\n",
              "      <td>Redragon K552 Mechanical Gaming Keyboard 60% C...</td>\n",
              "    </tr>\n",
              "    <tr>\n",
              "      <th>25</th>\n",
              "      <td>B085241XSX</td>\n",
              "      <td>89.99</td>\n",
              "      <td>4.7</td>\n",
              "      <td>GK61 Mechanical Gaming Keyboard - 61 Keys Mult...</td>\n",
              "    </tr>\n",
              "    <tr>\n",
              "      <th>26</th>\n",
              "      <td>B0731CJ4ZJ</td>\n",
              "      <td>56.99</td>\n",
              "      <td>4.6</td>\n",
              "      <td>RK ROYAL KLUDGE RK61 Wireless 60% Mechanical G...</td>\n",
              "    </tr>\n",
              "    <tr>\n",
              "      <th>27</th>\n",
              "      <td>B08K95SXVQ</td>\n",
              "      <td>62.99</td>\n",
              "      <td>4.6</td>\n",
              "      <td>60% Mechanical Gaming Keyboard Blue Switch Min...</td>\n",
              "    </tr>\n",
              "    <tr>\n",
              "      <th>28</th>\n",
              "      <td>B08JQ4QT54</td>\n",
              "      <td>36.99</td>\n",
              "      <td>4.8</td>\n",
              "      <td>PICTEK Mechanical Gaming Keyboard, Wired Keybo...</td>\n",
              "    </tr>\n",
              "    <tr>\n",
              "      <th>29</th>\n",
              "      <td>B07VNQQZFK</td>\n",
              "      <td>29.99</td>\n",
              "      <td>4.6</td>\n",
              "      <td>PICTEK TKL Mechanical Gaming Keyboard, RGB LED...</td>\n",
              "    </tr>\n",
              "    <tr>\n",
              "      <th>30</th>\n",
              "      <td>B07W5PD6VS</td>\n",
              "      <td>59.99</td>\n",
              "      <td>4.6</td>\n",
              "      <td>DIERYA DK61E 60% Mechanical Gaming Keyboard, R...</td>\n",
              "    </tr>\n",
              "    <tr>\n",
              "      <th>31</th>\n",
              "      <td>B07W1HXM4J</td>\n",
              "      <td>39.99</td>\n",
              "      <td>4.5</td>\n",
              "      <td>Havit Mechanical Gaming Keyboard and Mouse Com...</td>\n",
              "    </tr>\n",
              "    <tr>\n",
              "      <th>32</th>\n",
              "      <td>B07QS6MG8B</td>\n",
              "      <td>49.99</td>\n",
              "      <td>4.6</td>\n",
              "      <td>Havit Mechanical Keyboard and Mouse Combo RGB ...</td>\n",
              "    </tr>\n",
              "    <tr>\n",
              "      <th>33</th>\n",
              "      <td>B01NAI2TXC</td>\n",
              "      <td>59.99</td>\n",
              "      <td>4.6</td>\n",
              "      <td>Redragon K556 RGB LED Backlit Wired Mechanical...</td>\n",
              "    </tr>\n",
              "    <tr>\n",
              "      <th>34</th>\n",
              "      <td>B08MJBYZPW</td>\n",
              "      <td>32.99</td>\n",
              "      <td>4.7</td>\n",
              "      <td>NPET K20 Mechanical Gaming Keyboard, Wired Bac...</td>\n",
              "    </tr>\n",
              "    <tr>\n",
              "      <th>35</th>\n",
              "      <td>B07ZGDD6B1</td>\n",
              "      <td>99.99</td>\n",
              "      <td>4.8</td>\n",
              "      <td>SteelSeries Apex 5 Hybrid Mechanical Gaming Ke...</td>\n",
              "    </tr>\n",
              "    <tr>\n",
              "      <th>36</th>\n",
              "      <td>B079H7N61M</td>\n",
              "      <td>96.99</td>\n",
              "      <td>4.7</td>\n",
              "      <td>Corsair K68 RGB Mechanical Gaming Keyboard, Ba...</td>\n",
              "    </tr>\n",
              "    <tr>\n",
              "      <th>37</th>\n",
              "      <td>B08LYMDYV9</td>\n",
              "      <td>99.99</td>\n",
              "      <td>4.5</td>\n",
              "      <td>Keychron K4 Wireless Bluetooth/USB Wired Gamin...</td>\n",
              "    </tr>\n",
              "    <tr>\n",
              "      <th>38</th>\n",
              "      <td>B089NQD4RR</td>\n",
              "      <td>29.99</td>\n",
              "      <td>4.7</td>\n",
              "      <td>PICTEK Full Size Mechanical Gaming Keyboard, R...</td>\n",
              "    </tr>\n",
              "    <tr>\n",
              "      <th>39</th>\n",
              "      <td>B089YFHYYS</td>\n",
              "      <td>59.99</td>\n",
              "      <td>4.7</td>\n",
              "      <td>Logitech K845 Mechanical Illuminated Keyboard,...</td>\n",
              "    </tr>\n",
              "    <tr>\n",
              "      <th>40</th>\n",
              "      <td>B016M91SS0</td>\n",
              "      <td>39.99</td>\n",
              "      <td>4.4</td>\n",
              "      <td>Redragon K551 Mechanical Gaming Keyboard RGB L...</td>\n",
              "    </tr>\n",
              "  </tbody>\n",
              "</table>\n",
              "</div>"
            ],
            "text/plain": [
              "          asin  ...                                               name\n",
              "0   B06XKV8R9Z  ...  AUKEY Mechanical Keyboard TKL Gaming Keyboard ...\n",
              "1   B08J6FC3F3  ...  Corsair K60 RGB Pro Low Profile Mechanical Gam...\n",
              "2   B08DJ36S9W  ...  Gtracing Mechanical Keyboard 104 Key Mechanica...\n",
              "3   B0875M3MLS  ...  Keychron K8 Bluetooth Wireless Mechanical Keyb...\n",
              "4   B0878TJ7VY  ...  Lomi-luskr AK33 Wired Mechanical Keyboard, 82-...\n",
              "5   B08LRSK29Z  ...  Mechanical Gaming Keyboard Blue Switch Mini 82...\n",
              "6   B08NJNLYM3  ...  CQ84 RGB Mechanical Gaming Keyboard, Programma...\n",
              "7   B07QQB9VCV  ...  Logitech G PRO Mechanical Gaming Keyboard, Ult...\n",
              "8   B08GG96FN5  ...  Mizar MZ60 Luna Hot Swappable Mechanical Gamin...\n",
              "9   B08F1VV9LZ  ...  SHAVA TKL Mechanical Gaming Keyboard, Special ...\n",
              "10  B088FFLY9R  ...  DELUX Wired Programmable Mechanical Keyboard a...\n",
              "11  B08HWW99LT  ...  VictSing TKL Mechanical Gaming Keyboard，LED Ra...\n",
              "12  B08F37RG3Y  ...  Sweet Alice Mechanical Gaming Keyboard, Compac...\n",
              "13  B08LPR7FQW  ...  Kraken Pro 60 - BRED Edition 60% Mechanical Ke...\n",
              "14  B08KTHYW6X  ...  AUKEY Mechanical Keyboard TKL Gaming Keyboard ...\n",
              "15  B08P1XST42  ...  EPOMKER AKKO 3084 Silent 84 Keys Bluetooth 5.0...\n",
              "16  B08DZ5DWPX  ...         Logitech G PRO X Keyboard - Shroud Edition\n",
              "17  B08L4P9HW4  ...  Bfriendit Gaming Keyboard USB Wired Floating K...\n",
              "18  B07TNRCM1Z  ...  CORSAIR K57 RGB Wireless Gaming Keyboard - <1m...\n",
              "19  B01FXDHOKC  ...  HUO JI E-Yooso Z-88 RGB Mechanical Gaming Keyb...\n",
              "20  B08H4RHBL1  ...  GIM KB-64 60% Mechanical Gaming Keyboard, 64 K...\n",
              "21  B082LXPT5G  ...  Gaming Keyboard,Retro Punk Typewriter-Style, B...\n",
              "22  B086168SJT  ...  FIODIO Mechanical Gaming Keyboard, LED Rainbow...\n",
              "23  B07FZVCH4H  ...  DIERYA DK63 Wireless 60% Mechanical Gaming Key...\n",
              "24  B07D3GB4N3  ...  Redragon K552 Mechanical Gaming Keyboard 60% C...\n",
              "25  B085241XSX  ...  GK61 Mechanical Gaming Keyboard - 61 Keys Mult...\n",
              "26  B0731CJ4ZJ  ...  RK ROYAL KLUDGE RK61 Wireless 60% Mechanical G...\n",
              "27  B08K95SXVQ  ...  60% Mechanical Gaming Keyboard Blue Switch Min...\n",
              "28  B08JQ4QT54  ...  PICTEK Mechanical Gaming Keyboard, Wired Keybo...\n",
              "29  B07VNQQZFK  ...  PICTEK TKL Mechanical Gaming Keyboard, RGB LED...\n",
              "30  B07W5PD6VS  ...  DIERYA DK61E 60% Mechanical Gaming Keyboard, R...\n",
              "31  B07W1HXM4J  ...  Havit Mechanical Gaming Keyboard and Mouse Com...\n",
              "32  B07QS6MG8B  ...  Havit Mechanical Keyboard and Mouse Combo RGB ...\n",
              "33  B01NAI2TXC  ...  Redragon K556 RGB LED Backlit Wired Mechanical...\n",
              "34  B08MJBYZPW  ...  NPET K20 Mechanical Gaming Keyboard, Wired Bac...\n",
              "35  B07ZGDD6B1  ...  SteelSeries Apex 5 Hybrid Mechanical Gaming Ke...\n",
              "36  B079H7N61M  ...  Corsair K68 RGB Mechanical Gaming Keyboard, Ba...\n",
              "37  B08LYMDYV9  ...  Keychron K4 Wireless Bluetooth/USB Wired Gamin...\n",
              "38  B089NQD4RR  ...  PICTEK Full Size Mechanical Gaming Keyboard, R...\n",
              "39  B089YFHYYS  ...  Logitech K845 Mechanical Illuminated Keyboard,...\n",
              "40  B016M91SS0  ...  Redragon K551 Mechanical Gaming Keyboard RGB L...\n",
              "\n",
              "[41 rows x 4 columns]"
            ]
          },
          "metadata": {
            "tags": []
          },
          "execution_count": 3
        }
      ]
    },
    {
      "cell_type": "markdown",
      "metadata": {
        "id": "3tdtW4XBnslX"
      },
      "source": [
        "Here we have the distribution plots that can tell us a bit how the data is distributed and if we should expect any biases."
      ]
    },
    {
      "cell_type": "code",
      "metadata": {
        "colab": {
          "base_uri": "https://localhost:8080/",
          "height": 383
        },
        "id": "UBK6KExDuGdA",
        "outputId": "719147e6-146f-4394-a939-024b1600ed83"
      },
      "source": [
        "sns.displot(\r\n",
        "    data=df,\r\n",
        "    x = \"avgStars\"\r\n",
        ")"
      ],
      "execution_count": 11,
      "outputs": [
        {
          "output_type": "execute_result",
          "data": {
            "text/plain": [
              "<seaborn.axisgrid.FacetGrid at 0x7f9c8ac99828>"
            ]
          },
          "metadata": {
            "tags": []
          },
          "execution_count": 11
        },
        {
          "output_type": "display_data",
          "data": {
            "image/png": "[encoded data removed]",
            "text/plain": [
              "<Figure size 360x360 with 1 Axes>"
            ]
          },
          "metadata": {
            "tags": []
          }
        }
      ]
    },
    {
      "cell_type": "code",
      "metadata": {
        "colab": {
          "base_uri": "https://localhost:8080/",
          "height": 383
        },
        "id": "IyV0U05yua3n",
        "outputId": "1d0b3ad3-5b53-4568-cb01-089533f53431"
      },
      "source": [
        "sns.displot(\r\n",
        "    data=df,\r\n",
        "    x = \"avgStars\",\r\n",
        "    kde=\"True\"\r\n",
        ")"
      ],
      "execution_count": 12,
      "outputs": [
        {
          "output_type": "execute_result",
          "data": {
            "text/plain": [
              "<seaborn.axisgrid.FacetGrid at 0x7f9c811edd30>"
            ]
          },
          "metadata": {
            "tags": []
          },
          "execution_count": 12
        },
        {
          "output_type": "display_data",
          "data": {
            "image/png": "[encoded data removed]",
            "text/plain": [
              "<Figure size 360x360 with 1 Axes>"
            ]
          },
          "metadata": {
            "tags": []
          }
        }
      ]
    },
    {
      "cell_type": "code",
      "metadata": {
        "colab": {
          "base_uri": "https://localhost:8080/",
          "height": 383
        },
        "id": "Nf6D3MeWmp36",
        "outputId": "e24620ac-ed6c-4bb7-e018-9519a25aa8fe"
      },
      "source": [
        "sns.displot(\r\n",
        "    data=df,\r\n",
        "    x = \"price\",\r\n",
        "    kde=\"True\"\r\n",
        ")"
      ],
      "execution_count": 13,
      "outputs": [
        {
          "output_type": "execute_result",
          "data": {
            "text/plain": [
              "<seaborn.axisgrid.FacetGrid at 0x7f9c81182978>"
            ]
          },
          "metadata": {
            "tags": []
          },
          "execution_count": 13
        },
        {
          "output_type": "display_data",
          "data": {
            "image/png": "[encoded data removed]",
            "text/plain": [
              "<Figure size 360x360 with 1 Axes>"
            ]
          },
          "metadata": {
            "tags": []
          }
        }
      ]
    },
    {
      "cell_type": "markdown",
      "metadata": {
        "id": "5u5BQfLRn8DW"
      },
      "source": [
        "Next we have a relation plots. These plots will tell us whether there is some form of relationship between the price and average stars.\r\n",
        "\r\n"
      ]
    },
    {
      "cell_type": "code",
      "metadata": {
        "colab": {
          "base_uri": "https://localhost:8080/",
          "height": 400
        },
        "id": "gL4Rn1gBtVDY",
        "outputId": "cd170715-e181-4c20-e089-000e6e8f4ccf"
      },
      "source": [
        "sns.set_theme()\r\n",
        "\r\n",
        "sns.relplot(\r\n",
        "    data=df,\r\n",
        "    x = \"price\", y=\"avgStars\"\r\n",
        ")"
      ],
      "execution_count": 8,
      "outputs": [
        {
          "output_type": "execute_result",
          "data": {
            "text/plain": [
              "<seaborn.axisgrid.FacetGrid at 0x7f9c813b1ba8>"
            ]
          },
          "metadata": {
            "tags": []
          },
          "execution_count": 8
        },
        {
          "output_type": "display_data",
          "data": {
            "image/png": "[encoded data removed]",
            "text/plain": [
              "<Figure size 360x360 with 1 Axes>"
            ]
          },
          "metadata": {
            "tags": []
          }
        }
      ]
    },
    {
      "cell_type": "code",
      "metadata": {
        "colab": {
          "base_uri": "https://localhost:8080/",
          "height": 400
        },
        "id": "qPuRELnItfy0",
        "outputId": "73ec7958-6eb5-47a4-e4ca-500b13f13b01"
      },
      "source": [
        "sns.relplot(\r\n",
        "    data=df, kind=\"line\",\r\n",
        "    x = \"price\", y=\"avgStars\"\r\n",
        ")"
      ],
      "execution_count": 9,
      "outputs": [
        {
          "output_type": "execute_result",
          "data": {
            "text/plain": [
              "<seaborn.axisgrid.FacetGrid at 0x7f9c81323940>"
            ]
          },
          "metadata": {
            "tags": []
          },
          "execution_count": 9
        },
        {
          "output_type": "display_data",
          "data": {
            "image/png": "[encoded data removed]",
            "text/plain": [
              "<Figure size 360x360 with 1 Axes>"
            ]
          },
          "metadata": {
            "tags": []
          }
        }
      ]
    },
    {
      "cell_type": "code",
      "metadata": {
        "colab": {
          "base_uri": "https://localhost:8080/",
          "height": 400
        },
        "id": "iKkz2ki9uqqw",
        "outputId": "f390e815-46b3-40fc-de3b-843de26279fd"
      },
      "source": [
        "sns.lmplot(\r\n",
        "    data=df,\r\n",
        "    x = \"price\", y=\"avgStars\"\r\n",
        ")"
      ],
      "execution_count": 10,
      "outputs": [
        {
          "output_type": "execute_result",
          "data": {
            "text/plain": [
              "<seaborn.axisgrid.FacetGrid at 0x7f9c812ca668>"
            ]
          },
          "metadata": {
            "tags": []
          },
          "execution_count": 10
        },
        {
          "output_type": "display_data",
          "data": {
            "image/png": "[encoded data removed]",
            "text/plain": [
              "<Figure size 360x360 with 1 Axes>"
            ]
          },
          "metadata": {
            "tags": []
          }
        }
      ]
    }
  ]
}